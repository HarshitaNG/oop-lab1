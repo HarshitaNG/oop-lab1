{
  "nbformat": 4,
  "nbformat_minor": 0,
  "metadata": {
    "colab": {
      "name": "Untitled3.ipynb",
      "provenance": [],
      "authorship_tag": "ABX9TyNltu8Ye7GCQ3LFTLHVAsD4",
      "include_colab_link": true
    },
    "kernelspec": {
      "name": "python3",
      "display_name": "Python 3"
    },
    "language_info": {
      "name": "python"
    }
  },
  "cells": [
    {
      "cell_type": "markdown",
      "metadata": {
        "id": "view-in-github",
        "colab_type": "text"
      },
      "source": [
        "<a href=\"https://colab.research.google.com/github/HarshitaNG/oop-lab1/blob/main/Untitled3.ipynb\" target=\"_parent\"><img src=\"https://colab.research.google.com/assets/colab-badge.svg\" alt=\"Open In Colab\"/></a>"
      ]
    },
    {
      "cell_type": "markdown",
      "metadata": {
        "id": "ZoecJ8hA7DF5"
      },
      "source": [
        "Harshita.N.G  20bcs055"
      ]
    },
    {
      "cell_type": "markdown",
      "metadata": {
        "id": "RN3tYKkk6-wA"
      },
      "source": [
        "oop_assignment_2"
      ]
    },
    {
      "cell_type": "markdown",
      "metadata": {
        "id": "vub58i_u66Vw"
      },
      "source": [
        "problem 9"
      ]
    },
    {
      "cell_type": "code",
      "metadata": {
        "colab": {
          "base_uri": "https://localhost:8080/"
        },
        "id": "1G5iqKuE6XG7",
        "outputId": "b0910445-02af-42d9-bca3-f99888a46fce"
      },
      "source": [
        "class Student_Uni:\n",
        "\n",
        "  def __init__(self, Name, roll_number, semester, laptop_name, laptop_cpu, laptop_ram, laptop_hard_disk):\n",
        "    self.name = Name\n",
        "    self.roll_num = roll_number\n",
        "    self.sem = semester\n",
        "    self.laptop = self.Laptop(laptop_name, laptop_cpu, laptop_ram, laptop_hard_disk)\n",
        "\n",
        "\n",
        "  class Laptop:\n",
        "    def __init__(self, name, cpu, ram : int, hard_disk):\n",
        "      self.name = name\n",
        "      self.cpu = cpu\n",
        "      self.ram = ram\n",
        "      self.hard_disk = hard_disk\n",
        "\n",
        "    def specifications(self):\n",
        "      print(\"Laptop Name:\", self.name)\n",
        "      print(\"Laptop CPU:\", self.cpu)\n",
        "      print(\"Laptop RAM:\", self.ram, \"GB\")\n",
        "      print(\"Laptop Hard disk:\", self.hard_disk)\n",
        "\n",
        "  def disp(self):\n",
        "    print(\"Name:\", self.name)\n",
        "    print(\"Roll Number:\", self.roll_num)\n",
        "    print(\"Sem:\", self.sem)\n",
        "    self.laptop.specifications()\n",
        "\n",
        "x = Student_Uni(\"Harshita\", 55 , 3,\"HP pavilion 14s\", \"Intel i5\", 16, \"152 GB SSD\")\n",
        "x.disp()"
      ],
      "execution_count": 15,
      "outputs": [
        {
          "output_type": "stream",
          "name": "stdout",
          "text": [
            "Name: Harshita\n",
            "Roll Number: 55\n",
            "Sem: 3\n",
            "Laptop Name: HP pavilion 14s\n",
            "Laptop CPU: Intel i5\n",
            "Laptop RAM: 16 GB\n",
            "Laptop Hard disk: 152 GB SSD\n"
          ]
        }
      ]
    },
    {
      "cell_type": "markdown",
      "metadata": {
        "id": "4JgOmRd048dg"
      },
      "source": [
        "problem 8"
      ]
    },
    {
      "cell_type": "code",
      "metadata": {
        "colab": {
          "base_uri": "https://localhost:8080/"
        },
        "id": "PWR9Cksc4kyZ",
        "outputId": "e1dceb6e-9c6f-4a42-e1d1-cd34eff318bb"
      },
      "source": [
        "class Student:\n",
        "    sem = 3\n",
        "    institute = \"IIIT Dharwad\"\n",
        "    \n",
        "    def setData(self):\n",
        "        self.name = input(\"Enter the name of the student : \")\n",
        "        self.id = int(input(\"Enter the USN of student : \"))\n",
        "\n",
        "    def getInstanceData(self):\n",
        "        print(f\"Name : {self.name}\")\n",
        "        print(f\"USN = {self.id}\")\n",
        "\n",
        "    @classmethod\n",
        "    def getClassData(cls):\n",
        "        print(f\"Semester : {cls.sem}\")\n",
        "        print(f\"Institute : {cls.institute}\")\n",
        "\n",
        "    @staticmethod\n",
        "    def getExplanation():\n",
        "        print(\"Class variables (sem, institute) are printed using ClassMethod and Instance variables (name, id) are printed using Instance Method\")\n",
        "\n",
        "\n",
        "s1 = Student()\n",
        "s1.setData()\n",
        "s1.getInstanceData()\n",
        "Student.getClassData()\n",
        "Student.getExplanation()"
      ],
      "execution_count": 13,
      "outputs": [
        {
          "output_type": "stream",
          "name": "stdout",
          "text": [
            "Enter the name of the student : Harshita\n",
            "Enter the USN of student : 055\n",
            "Name : Harshita\n",
            "USN = 55\n",
            "Semester : 3\n",
            "Institute : IIIT Dharwad\n",
            "Class variables (sem, institute) are printed using ClassMethod and Instance variables (name, id) are printed using Instance Method\n"
          ]
        }
      ]
    },
    {
      "cell_type": "markdown",
      "metadata": {
        "id": "BMbQP_vB4end"
      },
      "source": [
        "problem 7"
      ]
    },
    {
      "cell_type": "code",
      "metadata": {
        "colab": {
          "base_uri": "https://localhost:8080/"
        },
        "id": "1UcjNrst32ay",
        "outputId": "9b931d75-9176-4cbb-a9cb-d8fa5e7c51ca"
      },
      "source": [
        "class Student:\n",
        "    def __init__(self, name, age, rollNo):\n",
        "        self.name = name\n",
        "        self.age = age\n",
        "        self.rollNo = rollNo\n",
        "\n",
        "    @classmethod\n",
        "    def compare(cls, std1, std2):\n",
        "        if std1.age == std2.age:\n",
        "            print(\"Age of the students are equal.\")\n",
        "        else:\n",
        "            print(\"Age of the students are not equal.\")\n",
        "\n",
        "S1 = Student(\"Rohan\", 18, 31)\n",
        "S2 = Student(\"Gurav\", 23, 64)\n",
        "\n",
        "Student.compare(S1, S2)"
      ],
      "execution_count": 12,
      "outputs": [
        {
          "output_type": "stream",
          "name": "stdout",
          "text": [
            "Age of the students are not equal.\n"
          ]
        }
      ]
    },
    {
      "cell_type": "markdown",
      "metadata": {
        "id": "Xn25UJ-n3xiE"
      },
      "source": [
        "problem 6"
      ]
    },
    {
      "cell_type": "code",
      "metadata": {
        "colab": {
          "base_uri": "https://localhost:8080/"
        },
        "id": "U3Yr9Ey43eFo",
        "outputId": "594ebb26-42bf-48d8-c579-b61200c57ad0"
      },
      "source": [
        "class time():\n",
        "  def __init__(self,hr=0,min=0,sec=0):\n",
        "    self.hour = hr\n",
        "    self.minute = min\n",
        "    self.second = sec\n",
        "  def dis(self):\n",
        "    print(\"Time :\",self.hour,\":\",self.minute,\":\",self.second)\n",
        "t1 = time()\n",
        "t1.dis()\n",
        "t1.hour = 10\n",
        "t1.minute = 49\n",
        "t1.second = 57\n",
        "t1.dis()"
      ],
      "execution_count": 11,
      "outputs": [
        {
          "output_type": "stream",
          "name": "stdout",
          "text": [
            "Time : 0 : 0 : 0\n",
            "Time : 10 : 49 : 57\n"
          ]
        }
      ]
    },
    {
      "cell_type": "markdown",
      "metadata": {
        "id": "bV9KJjic3RUF"
      },
      "source": [
        "problem 5"
      ]
    },
    {
      "cell_type": "code",
      "metadata": {
        "colab": {
          "base_uri": "https://localhost:8080/"
        },
        "id": "d5tSuMj2zVk-",
        "outputId": "6083232c-1926-4703-a61f-400ab676a083"
      },
      "source": [
        "class Patient:\n",
        "  def __init__(self, name, admission_date, symptoms : list, oxygen_level, discharge_date):\n",
        "    self.name = name\n",
        "    self.admission_date = admission_date\n",
        "    self.symptoms = symptoms\n",
        "    self.oxygen_level = oxygen_level\n",
        "    self.discharge_date = discharge_date\n",
        "\n",
        "class Data:\n",
        "  def __init__(self):\n",
        "    self.oxygen_support = []\n",
        "    self.general_ward = []\n",
        "\n",
        "  def Patient(self, patient):\n",
        "    if (patient.oxygen_level < 90):\n",
        "      self.oxygen_support.append(patient)\n",
        "    else:\n",
        "      self.general_ward.append(patient)\n",
        "\n",
        "  def numberOxygen(self):\n",
        "    print(f\"Totaal number of patients needing oxygen support is {len(self.oxygen_support)}\")\n",
        "\n",
        "  def numberGeneral(self):\n",
        "    print(f\"Total number of patients in general ward is {len(self.general_ward)}\")\n",
        "\n",
        "  def totalPatients(self):\n",
        "    print(f\"Total number of patients is {len(self.general_ward)+len(self.oxygen_support)}\")\n",
        "\n",
        "  def patientInfo(self):\n",
        "    print(\"Patients in oxygen support\")\n",
        "    for patient in self.oxygen_support:\n",
        "      print(\"\\n\")\n",
        "      print(\"Name:\", patient.name)\n",
        "      print(\"Admission Date:\", patient.admission_date)\n",
        "      print(\"symptoms:\", patient.symptoms)\n",
        "      print(\"oxygen level:\", patient.oxygen_level)\n",
        "      print(\"Discharge Date:\", patient.discharge_date)\n",
        "      print(\"\\n\")\n",
        "\n",
        "    print(\"Patients in General ward\")\n",
        "    for patient in self.general_ward:\n",
        "      print(\"Name:\", patient.name)\n",
        "      print(\"Admission Date:\", patient.admission_date)\n",
        "      print(\"symptoms:\", patient.symptoms)\n",
        "      print(\"oxygen level:\", patient.oxygen_level)\n",
        "      print(\"Discharge Date:\", patient.discharge_date)\n",
        "      print(\"\\n\")\n",
        "\n",
        "patient1 = Patient(\"Ritika\", \"11/09/2021\", [\"Fever\", \"shivering\"], 50, \"27/09/2021\")\n",
        "patient2 = Patient(\"ABCDEF\", \"17/09/2021\", [\"Headaches\", \"Fever\"], 120, \"30/09/2021\")\n",
        "\n",
        "db = Data()\n",
        "db.Patient(patient1)\n",
        "db.Patient(patient2)\n",
        "db.patientInfo()\n",
        "db.numberOxygen()\n",
        "db.numberGeneral()\n",
        "db.totalPatients()\n",
        "\n"
      ],
      "execution_count": 10,
      "outputs": [
        {
          "output_type": "stream",
          "name": "stdout",
          "text": [
            "Patients in oxygen support\n",
            "\n",
            "\n",
            "Name: Ritika\n",
            "Admission Date: 11/09/2021\n",
            "symptoms: ['Fever', 'shivering']\n",
            "oxygen level: 50\n",
            "Discharge Date: 27/09/2021\n",
            "\n",
            "\n",
            "Patients in General ward\n",
            "Name: ABCDEF\n",
            "Admission Date: 17/09/2021\n",
            "symptoms: ['Headaches', 'Fever']\n",
            "oxygen level: 120\n",
            "Discharge Date: 30/09/2021\n",
            "\n",
            "\n",
            "Totaal number of patients needing oxygen support is 1\n",
            "Total number of patients in general ward is 1\n",
            "Total number of patients is 2\n"
          ]
        }
      ]
    },
    {
      "cell_type": "markdown",
      "metadata": {
        "id": "xBpL9Y0_zAMW"
      },
      "source": [
        "problem **4**"
      ]
    },
    {
      "cell_type": "code",
      "metadata": {
        "colab": {
          "base_uri": "https://localhost:8080/"
        },
        "id": "nnwDEM4jyb92",
        "outputId": "e24203f4-f1f0-43b5-9ffc-d5143740e15e"
      },
      "source": [
        "class student():\n",
        "  def __init__(self,Student_Name,Student_USN,Student_Marks):\n",
        "    self.Student_Name = Student_Name\n",
        "    self.Student_USN = Student_USN\n",
        "    self.Student_Marks = Student_Marks\n",
        "  def Students_Name(self):\n",
        "    print(\"Student Name: \", self.Student_Name)\n",
        "  def Students_USN(self):\n",
        "    print(\"Student USN: \", self.Student_USN)\n",
        "  def Students_Marks(self):\n",
        "    print(\"Student Marks: \",self.Student_Marks)\n",
        "marks = []\n",
        "marks.append(96)   \n",
        "marks.append(95)\n",
        "marks.append(88)\n",
        "\n",
        "s1 = student(\"Naruto\", 35, marks)\n",
        "s1.Students_Name()\n",
        "s1.Students_USN()\n",
        "s1.Students_Marks()"
      ],
      "execution_count": 6,
      "outputs": [
        {
          "output_type": "stream",
          "name": "stdout",
          "text": [
            "Student Name:  Naruto\n",
            "Student USN:  35\n",
            "Student Marks:  [96, 95, 88]\n"
          ]
        }
      ]
    },
    {
      "cell_type": "markdown",
      "metadata": {
        "id": "3QpXx2byrksO"
      },
      "source": [
        "problem **3**"
      ]
    },
    {
      "cell_type": "code",
      "metadata": {
        "colab": {
          "base_uri": "https://localhost:8080/"
        },
        "id": "QlbtCdJwryEJ",
        "outputId": "bfc2027c-5e8e-4c5e-8202-446e6f587625"
      },
      "source": [
        "\n",
        "class Account:\n",
        "    def __init__(self, accNo, accHolder, amount):\n",
        "        self.accountNumber = accNo\n",
        "        self.accountHolder = accHolder\n",
        "        self.accountAmount = amount\n",
        "\n",
        "    def deposit(self):\n",
        "        depAmount = int(input(\"Enter the amount to deposit : \"))\n",
        "        self.accountAmount += depAmount\n",
        "        print(f\"Amount deposited : {depAmount}\")\n",
        "        print(f\"New Balance : {self.accountAmount}\")\n",
        "\n",
        "    def withdraw(self):\n",
        "        withAmount = int(input(\"Enter the amount to withdraw : \"))\n",
        "        if withAmount > self.accountAmount:\n",
        "            print(\"Your Account don't have sufficient ammount !!\")\n",
        "            return -1\n",
        "        self.accountAmount -= withAmount\n",
        "        print(f\"Amount withdraw : {withAmount}\")\n",
        "        print(f\"New Balance : {self.accountAmount}\")\n",
        "        return withAmount\n",
        "\n",
        "    def checkBalance(self):\n",
        "        print(f\"Balance : {self.accountAmount}\")\n",
        "        return self.accountAmount\n",
        "\n",
        "    def getDetails(self):\n",
        "        print(f\"Account Number : {self.accountNumber}\")\n",
        "        print(f\"Account Holder : {self.accountHolder}\") \n",
        "        print(f\"Balance : {self.accountAmount}\")\n",
        "        return self.accountNumber, self.accountHolder, self.accountAmount\n",
        "\n",
        "N = Account(100, \"Harshita.N.G\", 1000)\n",
        "N.deposit()\n",
        "withdraw = N.withdraw()\n",
        "balance = N.checkBalance()\n",
        "details = N.getDetails()"
      ],
      "execution_count": null,
      "outputs": [
        {
          "output_type": "stream",
          "name": "stdout",
          "text": [
            "Enter the amount to deposit : 30000\n",
            "Amount deposited : 30000\n",
            "New Balance : 31000\n",
            "Enter the amount to withdraw : 4500\n",
            "Amount withdraw : 4500\n",
            "New Balance : 26500\n",
            "Balance : 26500\n",
            "Account Number : 100\n",
            "Account Holder : Harshita.N.G\n",
            "Balance : 26500\n"
          ]
        }
      ]
    },
    {
      "cell_type": "markdown",
      "metadata": {
        "id": "XWJjwzkuu7J0"
      },
      "source": [
        "problem 2"
      ]
    },
    {
      "cell_type": "code",
      "metadata": {
        "colab": {
          "base_uri": "https://localhost:8080/"
        },
        "id": "OlGnggHQqYiz",
        "outputId": "311dfa1b-b742-4414-d8fd-2439bd0beccf"
      },
      "source": [
        "print(2)\n",
        "class Faculty:\n",
        "\n",
        "    def setData(self):\n",
        "        self.name = input(\"Enter the name of the Employee : \") \n",
        "        self.emp_ID = int(input(\"Enter the employee ID : \"))\n",
        "        self.branch = input(\"Enter the branch : \")\n",
        "        self.salary = int(input(\"Enter the salary : \"))\n",
        "\n",
        "    def getData(self):\n",
        "      print(f\"Name: \", {self.name})\n",
        "      print(f\"Employee ID: \", {self.emp_ID})\n",
        "      print(f\"Branch: \", {self.branch})\n",
        "      print(f\"Salary: \", {self.salary})\n",
        "\n",
        "      return self.name, self.emp_ID, self.branch, self.salary\n",
        "\n",
        "list_Faculty = []\n",
        "for i in range(1, 6):\n",
        "    temp = Faculty()\n",
        "    print(f\"\\nEnter the data for employee {i}  : \")\n",
        "    temp.setData()\n",
        "    list_Faculty.append(temp)\n",
        "\n",
        "for i in range(0, 5):\n",
        "    print(f\"\\nData of employee {i+1}  : \")\n",
        "    list_Faculty[i].getData()"
      ],
      "execution_count": null,
      "outputs": [
        {
          "output_type": "stream",
          "name": "stdout",
          "text": [
            "\n",
            "Enter the data for employee 1  : \n",
            "Enter the name of the Employee : Amin\n",
            "Enter the employee ID : 13\n",
            "Enter the branch : cse\n",
            "Enter the salary : 10\n",
            "\n",
            "Enter the data for employee 2  : \n",
            "Enter the name of the Employee : Afshan\n",
            "Enter the employee ID : 24\n",
            "Enter the branch : cse\n",
            "Enter the salary : 0\n",
            "\n",
            "Enter the data for employee 3  : \n",
            "Enter the name of the Employee : Roshni\n",
            "Enter the employee ID : 53\n",
            "Enter the branch : cse\n",
            "Enter the salary : 10\n",
            "\n",
            "Enter the data for employee 4  : \n",
            "Enter the name of the Employee : Rohan\n",
            "Enter the employee ID : 43\n",
            "Enter the branch : cse\n",
            "Enter the salary : 0\n",
            "\n",
            "Enter the data for employee 5  : \n",
            "Enter the name of the Employee : Keerthi\n",
            "Enter the employee ID : 21\n",
            "Enter the branch : cse\n",
            "Enter the salary : 0\n",
            "\n",
            "Data of employee 1  : \n",
            "Name:  {'Amin'}\n",
            "Employee ID:  {13}\n",
            "Branch:  {'cse'}\n",
            "Salary:  {10}\n",
            "\n",
            "Data of employee 2  : \n",
            "Name:  {'Afshan'}\n",
            "Employee ID:  {24}\n",
            "Branch:  {'cse'}\n",
            "Salary:  {0}\n",
            "\n",
            "Data of employee 3  : \n",
            "Name:  {'Roshni'}\n",
            "Employee ID:  {53}\n",
            "Branch:  {'cse'}\n",
            "Salary:  {10}\n",
            "\n",
            "Data of employee 4  : \n",
            "Name:  {'Rohan'}\n",
            "Employee ID:  {43}\n",
            "Branch:  {'cse'}\n",
            "Salary:  {0}\n",
            "\n",
            "Data of employee 5  : \n",
            "Name:  {'Keerthi'}\n",
            "Employee ID:  {21}\n",
            "Branch:  {'cse'}\n",
            "Salary:  {0}\n"
          ]
        }
      ]
    },
    {
      "cell_type": "markdown",
      "metadata": {
        "id": "L5qLhz88u_Mh"
      },
      "source": [
        "problem 1"
      ]
    },
    {
      "cell_type": "code",
      "metadata": {
        "colab": {
          "base_uri": "https://localhost:8080/"
        },
        "id": "kXIe4sruXYbq",
        "outputId": "5f3fd05b-4e71-4fff-a1eb-dd5ec417f4cd"
      },
      "source": [
        "print(1)\n",
        "class Circle():\n",
        "    def __init__(self, r):\n",
        "        self.radius = r\n",
        "\n",
        "    def area(self):\n",
        "        return self.radius**2*3.14\n",
        "    \n",
        "    def perimeter(self):\n",
        "        return 2*self.radius*3.14\n",
        "\n",
        "NewCircle = Circle(8)\n",
        "print(NewCircle.area())\n",
        "print(NewCircle.perimeter())"
      ],
      "execution_count": null,
      "outputs": [
        {
          "output_type": "stream",
          "name": "stdout",
          "text": [
            "200.96\n",
            "50.24\n"
          ]
        }
      ]
    }
  ]
}