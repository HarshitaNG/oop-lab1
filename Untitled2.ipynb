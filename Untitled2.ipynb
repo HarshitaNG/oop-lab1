{
  "nbformat": 4,
  "nbformat_minor": 0,
  "metadata": {
    "colab": {
      "name": "Untitled2.ipynb",
      "provenance": [],
      "authorship_tag": "ABX9TyNai36J3X4omTmcA6qoFjtj",
      "include_colab_link": true
    },
    "kernelspec": {
      "name": "python3",
      "display_name": "Python 3"
    },
    "language_info": {
      "name": "python"
    }
  },
  "cells": [
    {
      "cell_type": "markdown",
      "metadata": {
        "id": "view-in-github",
        "colab_type": "text"
      },
      "source": [
        "<a href=\"https://colab.research.google.com/github/HarshitaNG/oop-lab1/blob/main/Untitled2.ipynb\" target=\"_parent\"><img src=\"https://colab.research.google.com/assets/colab-badge.svg\" alt=\"Open In Colab\"/></a>"
      ]
    },
    {
      "cell_type": "code",
      "metadata": {
        "colab": {
          "base_uri": "https://localhost:8080/"
        },
        "id": "eeXIHFEQDY2X",
        "outputId": "b701fe64-0d36-4451-c684-3f90e351b88d"
      },
      "source": [
        "print(\"*************PROBLEM-V*************\\n\")\n",
        "bp = float(input(\"Enter the Basic Pay: \"))\n",
        "da = (40*bp)/100\n",
        "hra = (20*bp)/100\n",
        "gp = bp + da + hra\n",
        "print(gp)"
      ],
      "execution_count": 6,
      "outputs": [
        {
          "output_type": "stream",
          "name": "stdout",
          "text": [
            "*************PROBLEM-V*************\n",
            "\n",
            "Enter the Basic Pay: 3651\n",
            "5841.599999999999\n"
          ]
        }
      ]
    },
    {
      "cell_type": "code",
      "metadata": {
        "colab": {
          "base_uri": "https://localhost:8080/"
        },
        "id": "a9KaPLj8DKaF",
        "outputId": "2bf4b5e4-2bb3-4242-dff3-72c12437ec6c"
      },
      "source": [
        "print(\"*****************PROBLE-IV***********\\n\")\n",
        "def word_search_2(title_list, keyword):\n",
        "    # make lowercase and remove punctuation\n",
        "    keyword = keyword.lower().strip('.,')\n",
        "\n",
        "    result_list = []\n",
        "    for i, title in enumerate(title_list):\n",
        "        # make lowercase and remove punctuation, then split into words\n",
        "        words = title.lower().strip('.,').split()\n",
        "\n",
        "        if keyword in words:\n",
        "            result_list.append((i, title))\n",
        "\n",
        "    return result_list\n",
        "\n",
        "if __name__ == '__main__':\n",
        "    docs = [\n",
        "        'The Learn Python Challenge Casino',\n",
        "        'They bought a car, and a horse',\n",
        "        'The big casino.',\n",
        "        'Casinoville?',\n",
        "    ]\n",
        "    w = 'casino'\n",
        "\n",
        "    print(word_search_2(docs, w))"
      ],
      "execution_count": 5,
      "outputs": [
        {
          "output_type": "stream",
          "name": "stdout",
          "text": [
            "*****************PROBLE-IV***********\n",
            "\n",
            "[(0, 'The Learn Python Challenge Casino'), (2, 'The big casino.')]\n"
          ]
        }
      ]
    },
    {
      "cell_type": "code",
      "metadata": {
        "colab": {
          "base_uri": "https://localhost:8080/"
        },
        "id": "rhp6CNGdC2VU",
        "outputId": "d4c935ca-22c9-4739-da9f-1ea7e9f3c75a"
      },
      "source": [
        "print(\"*****************PROBLEM-III*************\\n\")\n",
        "n = int(input(\"Enter the number of guests: \"))\n",
        "guests = []\n",
        "for i in range(0, n):\n",
        "  name = str(input(\"enter the name of guests: \"))\n",
        "  guests.append([name])\n",
        "print(\"Guests are: \", guests)\n",
        "if(n%2==0):\n",
        "  for k in range( int((n)/2) , n-1):\n",
        "    print(\"\\nFashionable late persons are: \", guests[k])\n",
        "elif(n%2 != 0):\n",
        "  for k in range( int((n-1)/2) , n-1):\n",
        "    print(\"\\nFashionable late persons are: \", guests[k])"
      ],
      "execution_count": 4,
      "outputs": [
        {
          "output_type": "stream",
          "name": "stdout",
          "text": [
            "*****************PROBLEM-III*************\n",
            "\n",
            "Enter the number of guests: 5\n",
            "enter the name of guests: Neha\n",
            "enter the name of guests: ishanvi\n",
            "enter the name of guests: Aryan\n",
            "enter the name of guests: Amol\n",
            "enter the name of guests: Amin\n",
            "Guests are:  [['Neha'], ['ishanvi'], ['Aryan'], ['Amol'], ['Amin']]\n",
            "\n",
            "Fashionable late persons are:  ['Aryan']\n",
            "\n",
            "Fashionable late persons are:  ['Amol']\n"
          ]
        }
      ]
    },
    {
      "cell_type": "code",
      "metadata": {
        "colab": {
          "base_uri": "https://localhost:8080/"
        },
        "id": "NfpIQ94lCpAn",
        "outputId": "3760cea4-b13d-41cc-ad3b-debdbed4cd61"
      },
      "source": [
        "print(\"****************PROBLEM-II************\\n\")\n",
        "n = int(input(\"Enter the number: \"))\n",
        "if(n%2 != 0):\n",
        "  print(\"Weird\")  \n",
        "elif(n%2 == 0):\n",
        "  if(n>= 2 and n<=5):\n",
        "    print(\"Not Weird\")\n",
        "  if(n>=6 and n<=20):\n",
        "    print(\"Weird\")\n",
        "  if(n>20):\n",
        "    print(\"Not Weird\")"
      ],
      "execution_count": 3,
      "outputs": [
        {
          "output_type": "stream",
          "name": "stdout",
          "text": [
            "****************PROBLEM-II************\n",
            "\n",
            "Enter the number: 35\n",
            "Weird\n"
          ]
        }
      ]
    },
    {
      "cell_type": "code",
      "metadata": {
        "colab": {
          "base_uri": "https://localhost:8080/"
        },
        "id": "mHUw-sWYCezy",
        "outputId": "13000596-469c-49d7-faec-ad85b6d121bd"
      },
      "source": [
        "def checkyear(year):\n",
        "  if(year%400 == 0):\n",
        "    return(True)\n",
        "  elif(year%4==0 and year %100 != 0):\n",
        "    return(TRUE)\n",
        "  else:\n",
        "    return(False)\n",
        "\n",
        "print(\"**********PROBLEM-I**********\\n\")\n",
        "year = int(input(\"Enter the Year: \"))\n",
        "checkyear(year)"
      ],
      "execution_count": 2,
      "outputs": [
        {
          "name": "stdout",
          "output_type": "stream",
          "text": [
            "**********PROBLEM-I**********\n",
            "\n",
            "Enter the Year: 45635\n"
          ]
        },
        {
          "output_type": "execute_result",
          "data": {
            "text/plain": [
              "False"
            ]
          },
          "metadata": {},
          "execution_count": 2
        }
      ]
    }
  ]
}