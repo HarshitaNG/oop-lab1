{
  "nbformat": 4,
  "nbformat_minor": 0,
  "metadata": {
    "colab": {
      "name": "Untitled7.ipynb",
      "provenance": [],
      "authorship_tag": "ABX9TyNi1CXqDeSytihi7QztjpLJ",
      "include_colab_link": true
    },
    "kernelspec": {
      "name": "python3",
      "display_name": "Python 3"
    },
    "language_info": {
      "name": "python"
    }
  },
  "cells": [
    {
      "cell_type": "markdown",
      "metadata": {
        "id": "view-in-github",
        "colab_type": "text"
      },
      "source": [
        "<a href=\"https://colab.research.google.com/github/HarshitaNG/oop-lab1/blob/main/Untitled7.ipynb\" target=\"_parent\"><img src=\"https://colab.research.google.com/assets/colab-badge.svg\" alt=\"Open In Colab\"/></a>"
      ]
    },
    {
      "cell_type": "markdown",
      "metadata": {
        "id": "xingTivHpE5Q"
      },
      "source": [
        "oop task 5"
      ]
    },
    {
      "cell_type": "code",
      "metadata": {
        "id": "5D4uxGm8oyLP"
      },
      "source": [
        "Name:Harshita.N.G\n",
        "roll no: 20bcs055\n"
      ],
      "execution_count": null,
      "outputs": []
    },
    {
      "cell_type": "markdown",
      "metadata": {
        "id": "i7FJVg91o64m"
      },
      "source": [
        ""
      ]
    },
    {
      "cell_type": "markdown",
      "metadata": {
        "id": "13DLLSSBsfIu"
      },
      "source": [
        "1"
      ]
    },
    {
      "cell_type": "code",
      "metadata": {
        "colab": {
          "base_uri": "https://localhost:8080/"
        },
        "id": "np2FloifpKD5",
        "outputId": "b3f01e25-9e31-4a59-c277-acec023f8867"
      },
      "source": [
        "class Shape:\n",
        "  def area(self):\n",
        "    pass\n",
        "\n",
        "\n",
        "#Square\n",
        "class Square(Shape):\n",
        "  def __init__ (self, side):\n",
        "    super().__init__()\n",
        "    self.side = side\n",
        "  \n",
        "  def area(self) :\n",
        "    return self.side * self.side\n",
        "    pass     \n",
        "\n",
        "#Circle\n",
        "class Circle(Shape):\n",
        "  pi = 3.14\n",
        "  def __init__(self, radius):\n",
        "    super().__init__()\n",
        "    self.radius = radius\n",
        "\n",
        "  def area(self) :\n",
        "    return round(Circle.pi * (self.radius ** 2), 2)\n",
        "    pass  \n",
        "\n",
        "#Rectangle\n",
        "class Rectangle(Shape):\n",
        "  def __init__ (self, length, breadth):\n",
        "    super().__init__()\n",
        "    self.length = length\n",
        "    self.breadth = breadth\n",
        " \n",
        "  def area(self) :\n",
        "    return self.length * self.breadth\n",
        "    pass      \n",
        "\n",
        "\n",
        "r1 = Rectangle (30, 20)\n",
        "print(\"Area of rectangle :\", r1.area())\n",
        "\n",
        "c1 = Circle(12)\n",
        "print(\"Area of circle :\", format(c1.area(), \"0.2f\"))\n",
        "\n",
        "s1 = Square (15) \n",
        "print(\"Area of square :\", s1.area())"
      ],
      "execution_count": 6,
      "outputs": [
        {
          "output_type": "stream",
          "name": "stdout",
          "text": [
            "Area of rectangle : 600\n",
            "Area of circle : 452.16\n",
            "Area of square : 225\n"
          ]
        }
      ]
    },
    {
      "cell_type": "markdown",
      "metadata": {
        "id": "vm2K8aDEscNQ"
      },
      "source": [
        "2"
      ]
    },
    {
      "cell_type": "code",
      "metadata": {
        "colab": {
          "base_uri": "https://localhost:8080/"
        },
        "id": "ZRyrSDXEsbXR",
        "outputId": "328820c5-359c-4f16-965e-ce09f4b518f1"
      },
      "source": [
        "class Travel:\n",
        "\n",
        "  def __init__(self, passengers):\n",
        "    self._passengers=passengers\n",
        "  @property\n",
        "  def passengers(self):\n",
        "    return self._passengers\n",
        "\n",
        "  def distance(self):\n",
        "    pass\n",
        "\n",
        "  def mode(self):\n",
        "    pass\n",
        "\n",
        "class train(Travel):\n",
        "\n",
        "  #def __init__(self, total_passangers):\n",
        "    #self.total_passangers = total_passangers\n",
        "\n",
        "  def cost_of_transport(self):\n",
        "    print(self.passengers*60)\n",
        "\n",
        "class bus(Travel):\n",
        "\n",
        "  #def __init__(self, total_passangers):\n",
        "    #self.total_passangers = total_passangers\n",
        "\n",
        "  def cost_of_transport(self):\n",
        "    print(self.passengers*100)\n",
        "\n",
        "mode1 = train(1056)\n",
        "mode1.cost_of_transport()\n",
        "\n",
        "mode2 = bus(60)\n",
        "mode2.cost_of_transport()"
      ],
      "execution_count": 10,
      "outputs": [
        {
          "output_type": "stream",
          "name": "stdout",
          "text": [
            "63360\n",
            "6000\n"
          ]
        }
      ]
    },
    {
      "cell_type": "markdown",
      "metadata": {
        "id": "gaou2qgwtbIT"
      },
      "source": [
        "3"
      ]
    },
    {
      "cell_type": "code",
      "metadata": {
        "colab": {
          "base_uri": "https://localhost:8080/"
        },
        "id": "DM46ApXitcXl",
        "outputId": "9240a033-2625-45e9-e743-69cbcd314b44"
      },
      "source": [
        "class Car:\n",
        "\n",
        "  def __init__(self, model_no):\n",
        "    self.model_no = model_no\n",
        "\n",
        "  def print_model_no(self):\n",
        "    print(self.model_no)\n",
        "\n",
        "c1 = Car(\"a123\")\n",
        "print(\"model no. of c1 =\")\n",
        "c1.print_model_no()\n",
        "\n",
        "c2 = Car(\"b123\")\n",
        "print(\"model no. of c2 =\")\n",
        "c2.print_model_no()\n",
        "print(\"\\n\")\n",
        "\n",
        "var = c1\n",
        "c1 = c2\n",
        "c2 = var\n",
        "\n",
        "print(\"model no. of c1 =\")\n",
        "c1.print_model_no()\n",
        "print(\"model no. of c2 =\")\n",
        "c2.print_model_no()"
      ],
      "execution_count": 9,
      "outputs": [
        {
          "output_type": "stream",
          "name": "stdout",
          "text": [
            "model no. of c1 =\n",
            "a123\n",
            "model no. of c2 =\n",
            "b123\n",
            "\n",
            "\n",
            "model no. of c1 =\n",
            "b123\n",
            "model no. of c2 =\n",
            "a123\n"
          ]
        }
      ]
    }
  ]
}