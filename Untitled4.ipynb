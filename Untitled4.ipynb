{
  "nbformat": 4,
  "nbformat_minor": 0,
  "metadata": {
    "colab": {
      "name": "Untitled4.ipynb",
      "provenance": [],
      "authorship_tag": "ABX9TyP+egUkRbeuBPytnfrArV6u",
      "include_colab_link": true
    },
    "kernelspec": {
      "name": "python3",
      "display_name": "Python 3"
    },
    "language_info": {
      "name": "python"
    }
  },
  "cells": [
    {
      "cell_type": "markdown",
      "metadata": {
        "id": "view-in-github",
        "colab_type": "text"
      },
      "source": [
        "<a href=\"https://colab.research.google.com/github/HarshitaNG/oop-lab1/blob/main/Untitled4.ipynb\" target=\"_parent\"><img src=\"https://colab.research.google.com/assets/colab-badge.svg\" alt=\"Open In Colab\"/></a>"
      ]
    },
    {
      "cell_type": "markdown",
      "metadata": {
        "id": "fDCvMerBUHae"
      },
      "source": [
        "HARSHITA.N.G  - 20bcs055"
      ]
    },
    {
      "cell_type": "markdown",
      "metadata": {
        "id": "QpU5vGs6UCuU"
      },
      "source": [
        "OOP Assignment 3"
      ]
    },
    {
      "cell_type": "markdown",
      "metadata": {
        "id": "Z29vRGNXPYot"
      },
      "source": [
        "problem 1"
      ]
    },
    {
      "cell_type": "code",
      "metadata": {
        "colab": {
          "base_uri": "https://localhost:8080/"
        },
        "id": "OfLJxQeb8x8y",
        "outputId": "fc4785cd-d4ca-490e-b01c-d12903aa032d"
      },
      "source": [
        "class Student:\n",
        "    def setData(self):\n",
        "        self.name = input(\"Enter the name of student : \")\n",
        "        self.regNo = int(input(\"Enter the Reg No. : \"))\n",
        "        self.age = int(input(\"Enter the age : \"))\n",
        "        self.gender = input(\"Enter Gender : \")\n",
        "        self.branch = input(\"Enter Branch : \")\n",
        "        self.sem = int(input(\"Enter the current sem : \"))\n",
        "\n",
        "    def getData(self):\n",
        "        print(f\"\\nName : {self.name} \\nReg No. : {self.regNo} \\nAge : {self.age} \\nGender : {self.gender} \\nBranch : {self.branch} \\nSemester : {self.sem}\")\n",
        "\n",
        "class StudentResultInfo(Student):\n",
        "    def setData(self):\n",
        "        Student.setData(self)\n",
        "        self.totalMarks = int(input(\"Enter total marks : \"))\n",
        "        self.percentage = float(input(\"Enter percentage : \"))\n",
        "        self.grade = input(\"Enter grade : \")\n",
        "\n",
        "    def getData(self):\n",
        "        Student.getData(self)\n",
        "        print(f\"Total Marks : {self.totalMarks} \\nPercentage : {self.percentage} \\nGrade : {self.grade}\")\n",
        "\n",
        "stud1 = StudentResultInfo()\n",
        "stud1.setData()\n",
        "stud1.getData()"
      ],
      "execution_count": 6,
      "outputs": [
        {
          "output_type": "stream",
          "name": "stdout",
          "text": [
            "Enter the name of student : josha\n",
            "Enter the Reg No. : 13\n",
            "Enter the age : 18\n",
            "Enter Gender : female\n",
            "Enter Branch : cse\n",
            "Enter the current sem : 3\n",
            "Enter total marks : 600\n",
            "Enter percentage : 87\n",
            "Enter grade : A\n",
            "\n",
            "Name : josha \n",
            "Reg No. : 13 \n",
            "Age : 18 \n",
            "Gender : female \n",
            "Branch : cse \n",
            "Semester : 3\n",
            "Total Marks : 600 \n",
            "Percentage : 87.0 \n",
            "Grade : A\n"
          ]
        }
      ]
    },
    {
      "cell_type": "markdown",
      "metadata": {
        "id": "omM5L0cOPeVC"
      },
      "source": [
        "problem 2"
      ]
    },
    {
      "cell_type": "code",
      "metadata": {
        "colab": {
          "base_uri": "https://localhost:8080/"
        },
        "id": "SVYJXkQKPdy3",
        "outputId": "58340a05-4e27-4317-9cc9-4f55677af4f7"
      },
      "source": [
        "class PDFs:\n",
        "  def __init__(self, creator, description, size):\n",
        "    self.creator = creator\n",
        "    self.description = description\n",
        "    self.size = size\n",
        "\n",
        "  def displayInfo(self):\n",
        "    print(\"Created by:\",self.creator)\n",
        "    print(\"Description:\", self.description)\n",
        "    print(\"File size (in KBs):\", self.size)\n",
        "\n",
        "  def sizeLimit(self):\n",
        "    if self.size > 256:\n",
        "      print(\"Size exceeds threshold.\\n\")\n",
        "    else:\n",
        "      print(\"Size is within the threshold.\\n\")\n",
        "\n",
        "class Pictures(PDFs):\n",
        "  def __init__(self, creator, description, size, dimension):\n",
        "    super().__init__(creator, description, size)\n",
        "    self.dimension = dimension\n",
        "\n",
        "  def displayPicInfo(self):\n",
        "    self.displayInfo()\n",
        "    print(\"Dimensions (in pixels):\", self.dimension)\n",
        "\n",
        "  def dimensionLimit(self):\n",
        "    if self.dimension>2000:\n",
        "      print(\" high dimension!\\n\")\n",
        "    else:\n",
        "      print(\" dimensions are fine.\\n\")\n",
        "      \n",
        "pdf1 = PDFs(\"sam\", \"it was purchased yesterday\", 15.1)\n",
        "pdf1.displayInfo()\n",
        "pdf1.sizeLimit()\n",
        "print()\n",
        "img = Pictures(\"the best\", \"ABCD\", 34900, 1276)\n",
        "img.displayPicInfo()\n",
        "img.dimensionLimit()\n",
        "   \n",
        "           "
      ],
      "execution_count": 13,
      "outputs": [
        {
          "output_type": "stream",
          "name": "stdout",
          "text": [
            "Created by: sam\n",
            "Description: it was purchased yesterday\n",
            "File size (in KBs): 15.1\n",
            "Size is within the threshold.\n",
            "\n",
            "\n",
            "Created by: the best\n",
            "Description: ABCD\n",
            "File size (in KBs): 34900\n",
            "Dimensions (in pixels): 1276\n",
            " dimensions are fine.\n",
            "\n"
          ]
        }
      ]
    },
    {
      "cell_type": "markdown",
      "metadata": {
        "id": "GsmFqgvqTQSI"
      },
      "source": [
        "problem 3"
      ]
    },
    {
      "cell_type": "code",
      "metadata": {
        "id": "G5RUnjtPTT8_",
        "outputId": "9019f487-a9a1-47ff-dea4-c706ebe60e57",
        "colab": {
          "base_uri": "https://localhost:8080/"
        }
      },
      "source": [
        "class Vehicle:\n",
        "    def __init__(self, name, mileage, capacity):\n",
        "        self.name = name\n",
        "        self.mileage = mileage\n",
        "        self.capacity = capacity\n",
        "\n",
        "    def cap(self):\n",
        "        return self.capacity * 100\n",
        "\n",
        "class Bus(Vehicle):\n",
        "    def __init__(self, name, mileage, capacity=50):\n",
        "        Vehicle.__init__(self, name, mileage, capacity)\n",
        "        self.finalAmount = Vehicle.cap(self) * 1.1\n",
        "\n",
        "    def busFare(self):\n",
        "        print(f\"Total Fare : {self.finalAmount}\")\n",
        "\n",
        "car1 = Vehicle(\"Nano\", 40, 5)\n",
        "print(f\"Car Fare : {car1.cap()}\")\n",
        "bus1 = Bus(\"MRH Travels\", 20, 50)\n",
        "bus1.busFare()"
      ],
      "execution_count": 14,
      "outputs": [
        {
          "output_type": "stream",
          "name": "stdout",
          "text": [
            "Car Fare : 500\n",
            "Total Fare : 5500.0\n"
          ]
        }
      ]
    }
  ]
}